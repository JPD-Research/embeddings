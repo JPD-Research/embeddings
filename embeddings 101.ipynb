{
 "cells": [
  {
   "cell_type": "markdown",
   "metadata": {},
   "source": [
    "ToDo:\n",
    "- Better understand exactly what's being trained here\n",
    "- extend for different corpus of text\\\n",
    "- learn more about masking/padding"
   ]
  },
  {
   "cell_type": "markdown",
   "metadata": {},
   "source": [
    "https://www.kaggle.com/code/redwankarimsony/nlp-101-understanding-word-embedding/notebook\n",
    "\n",
    "Word embeddings\n",
    "\n",
    "Word embeddings give us a way to use an efficient, dense representation in which similar words have a similar encoding. Importantly, we do not have to specify this encoding by hand. An embedding is a dense vector of floating point values (the length of the vector is a parameter you specify). Instead of specifying the values for the embedding manually, they are trainable parameters (weights learned by the model during training, in the same way a model learns weights for a dense layer). It is common to see word embeddings that are 8-dimensional (for small datasets), up to 1024-dimensions when working with large datasets. A higher dimensional embedding can capture fine-grained relationships between words, but takes more data to learn.\n",
    "\n",
    "Diagram of an embeddingAbove is a diagram for a word embedding. Each word is represented as a 4-dimensional vector of floating point values. Another way to think of an embedding is as \"lookup table\". After these weights have been learned, we can encode each word by looking up the dense vector it corresponds to in the table."
   ]
  },
  {
   "cell_type": "code",
   "execution_count": null,
   "metadata": {
    "pycharm": {
     "is_executing": true
    }
   },
   "outputs": [],
   "source": [
    "import tensorflow as tf\n",
    "from tensorflow import keras\n",
    "from tensorflow.keras import layers\n",
    "import tensorflow_datasets as tfds\n",
    "tfds.disable_progress_bar()"
   ]
  },
  {
   "cell_type": "markdown",
   "metadata": {
    "collapsed": false,
    "jupyter": {
     "outputs_hidden": false
    }
   },
   "source": [
    "The Embedding layer can be understood as a lookup table that maps from integer indices (which stand for specific words) to dense vectors (their embeddings). The dimensionality (or width) of the embedding is a parameter you can experiment with to see what works well for your problem, much in the same way you would experiment with the number of neurons in a Dense layer"
   ]
  },
  {
   "cell_type": "code",
   "execution_count": 144,
   "metadata": {
    "collapsed": false,
    "jupyter": {
     "outputs_hidden": false
    },
    "pycharm": {
     "is_executing": true
    }
   },
   "outputs": [],
   "source": [
    "embedding_layer = layers.Embedding(1000, 5)\n",
    "# Here inside the Embedding(), the first number is the input_size and second one is the output_size"
   ]
  },
  {
   "cell_type": "markdown",
   "metadata": {
    "collapsed": false,
    "jupyter": {
     "outputs_hidden": false
    }
   },
   "source": [
    "When you create an Embedding layer, the weights for the embedding are randomly initialized (just like any other layer). During training, they are gradually adjusted via backpropagation. Once trained, the learned word embeddings will roughly encode similarities between words (as they were learned for the specific problem your model is trained on).\n",
    "\n",
    "If you pass an integer to an embedding layer, the result replaces each integer with the vector from the embedding table:"
   ]
  },
  {
   "cell_type": "code",
   "execution_count": 145,
   "metadata": {
    "collapsed": false,
    "jupyter": {
     "outputs_hidden": false
    }
   },
   "outputs": [
    {
     "data": {
      "text/plain": [
       "array([[ 0.01439219,  0.03816852,  0.02098807,  0.00501934,  0.01918485],\n",
       "       [ 0.00772703,  0.04408674,  0.04451535, -0.01237702, -0.00977308],\n",
       "       [-0.01945599,  0.04121121,  0.01551278,  0.0228426 , -0.01463968],\n",
       "       [ 0.01584179, -0.0126057 , -0.00847416, -0.02737864,  0.00030207]],\n",
       "      dtype=float32)"
      ]
     },
     "execution_count": 145,
     "metadata": {},
     "output_type": "execute_result"
    }
   ],
   "source": [
    "result = embedding_layer(tf.constant([1,2,3, 999]))\n",
    "result.numpy()"
   ]
  },
  {
   "cell_type": "markdown",
   "metadata": {
    "collapsed": false,
    "jupyter": {
     "outputs_hidden": false
    }
   },
   "source": [
    "For text or sequence problems, the Embedding layer takes a 2D tensor of integers, of shape (samples, sequence_length), where each entry is a sequence of integers. It can embed sequences of variable lengths. You could feed into the embedding layer above batches with shapes  (32,10)\n",
    "  (batch of 32 sequences of length 10) or  (64,15)\n",
    "  (batch of 64 sequences of length 15).\n",
    "\n",
    "The returned tensor has one more axis than the input, the embedding vectors are aligned along the new last axis. Pass it a  (2,3)\n",
    "  input batch and the output is  (2,3,N)"
   ]
  },
  {
   "cell_type": "code",
   "execution_count": 146,
   "metadata": {
    "collapsed": false,
    "jupyter": {
     "outputs_hidden": false
    }
   },
   "outputs": [
    {
     "name": "stdout",
     "output_type": "stream",
     "text": [
      "(2, 3, 5)\n",
      "tf.Tensor(\n",
      "[[ 0.02823391 -0.00625271 -0.02738076  0.02813688  0.01872691]\n",
      " [ 0.01439219  0.03816852  0.02098807  0.00501934  0.01918485]\n",
      " [ 0.00772703  0.04408674  0.04451535 -0.01237702 -0.00977308]], shape=(3, 5), dtype=float32)\n",
      "tf.Tensor(\n",
      "[[-0.01945599  0.04121121  0.01551278  0.0228426  -0.01463968]\n",
      " [ 0.04821321  0.02249843  0.00919446 -0.01195072 -0.02985656]\n",
      " [-0.04121299 -0.04917946  0.04983843  0.03265176  0.01150579]], shape=(3, 5), dtype=float32)\n"
     ]
    }
   ],
   "source": [
    "result = embedding_layer(tf.constant([[0,1,2],[3,4,5]]))\n",
    "print(result.shape)\n",
    "print(result[0])\n",
    "print(result[1])"
   ]
  },
  {
   "cell_type": "markdown",
   "metadata": {},
   "source": [
    "Learning embeddings from scratch\n",
    "Large Movie Review Dataset. This is a dataset for binary sentiment classification containing substantially more data than previous benchmark datasets. It contains a set of 25,000 highly polar movie reviews for training, and 25,000 for testing. There is additional 50000 unlabeled data for use as well.\n",
    "\n",
    "One of the common tricks is to use the total 100,000 samples to train a language model which essentially predicts the next word of a sequence given a series of words before that and later on using that model for classification. However, in this notebook, I am simply using them for demonstrating word embeddings. So, I will just work on a small subset of the whole dataset containing vocabulary size of 8,000 words. You are free to explore the other larger version of the dataset from the tensorflow dataframes on imdb reviews ready to use."
   ]
  },
  {
   "cell_type": "code",
   "execution_count": 147,
   "metadata": {},
   "outputs": [
    {
     "name": "stderr",
     "output_type": "stream",
     "text": [
      "WARNING:absl:Warning: Setting shuffle_files=True because split=TRAIN and shuffle_files=None. This behavior will be deprecated on 2019-08-06, at which point shuffle_files=False will be the default for all splits.\n"
     ]
    }
   ],
   "source": [
    "#(train_data, test_data), info = tfds.load('imdb_reviews/subwords8k', \n",
    "(train_data, test_data), info = tfds.load('imdb_reviews/subwords32k', \n",
    "                                          split = (tfds.Split.TRAIN, tfds.Split.TEST),\n",
    "                                          with_info=True, \n",
    "                                          as_supervised=True)"
   ]
  },
  {
   "cell_type": "markdown",
   "metadata": {},
   "source": [
    "Get the encoder (tfds.features.text.SubwordTextEncoder), and have a quick look at the vocabulary. The \"\" in the vocabulary represent spaces. Note how the vocabulary includes whole words (ending with \"\") and partial words which it can use to build larger words:"
   ]
  },
  {
   "cell_type": "code",
   "execution_count": 148,
   "metadata": {},
   "outputs": [
    {
     "data": {
      "text/plain": [
       "['has_',\n",
       " 'just_',\n",
       " 'about_',\n",
       " 'her_',\n",
       " ') ',\n",
       " 'This_',\n",
       " 'out_',\n",
       " 'some_',\n",
       " 'movie',\n",
       " 'very_',\n",
       " 'film',\n",
       " 'more_',\n",
       " 'It_',\n",
       " 'would_',\n",
       " 'what_',\n",
       " 'when_',\n",
       " 'which_',\n",
       " 'good_',\n",
       " 'if_',\n",
       " 'up_']"
      ]
     },
     "execution_count": 148,
     "metadata": {},
     "output_type": "execute_result"
    }
   ],
   "source": [
    "encoder = info.features['text'].encoder\n",
    "encoder.subwords[50:70]"
   ]
  },
  {
   "cell_type": "markdown",
   "metadata": {},
   "source": [
    "Movie reviews can be different lengths. We will use the padded_batch method to standardize the lengths of the reviews."
   ]
  },
  {
   "cell_type": "code",
   "execution_count": 149,
   "metadata": {},
   "outputs": [],
   "source": [
    "train_batches = train_data.shuffle(1000).padded_batch(10)\n",
    "test_batches = test_data.shuffle(1000).padded_batch(10)"
   ]
  },
  {
   "cell_type": "markdown",
   "metadata": {},
   "source": [
    "As imported, the text of reviews is integer-encoded (each integer represents a specific word or word-part in the vocabulary). Note the trailing zeros, because the batch is padded to the longest example. Now lets have a look at the dataset summary."
   ]
  },
  {
   "cell_type": "code",
   "execution_count": 150,
   "metadata": {},
   "outputs": [
    {
     "name": "stdout",
     "output_type": "stream",
     "text": [
      "Training data info\n",
      "Train data shape:  (10, 858)\n",
      "Train_data:  [[   56    27     8 ...     0     0     0]\n",
      " [17104   233     1 ...   937  3884 32440]\n",
      " [   12   259  7004 ...     0     0     0]\n",
      " ...\n",
      " [ 2003 32433    11 ...     0     0     0]\n",
      " [ 3329    42     6 ...     0     0     0]\n",
      " [   12    74   640 ...     0     0     0]]\n",
      "\n",
      "\n",
      "Train label info\n",
      "Train label shape:  (10,)\n",
      "Train label:  [1 0 1 0 0 1 0 0 1 1]\n"
     ]
    }
   ],
   "source": [
    "train_batch, train_labels = next(iter(train_batches))\n",
    "print('Training data info')\n",
    "print('Train data shape: ', train_batch.shape)\n",
    "print('Train_data: ', train_batch.numpy())\n",
    "\n",
    "\n",
    "print('\\n\\nTrain label info')\n",
    "print('Train label shape: ', train_labels.shape)\n",
    "print('Train label: ', train_labels.numpy())"
   ]
  },
  {
   "cell_type": "markdown",
   "metadata": {},
   "source": [
    "Create a simple model\n",
    "I will use the Keras Sequential API to define our model. In this case it is a \"Continuous bag of words (CBOW)\" style model. In the CBOW model, the distributed representations of context (or surrounding words) are combined to predict the word in the middle. The exact opposite model is the Skip-Gram model, that is based on a single target word, the sorrounding words (contexts) are predicted The following figure will clarify them for sure."
   ]
  },
  {
   "cell_type": "markdown",
   "metadata": {},
   "source": [
    "Next the Embedding layer takes the integer-encoded vocabulary and looks up the embedding vector for each word-index. These vectors are learned as the model trains. The vectors add a dimension to the output array. The resulting dimensions are: (batch, sequence, embedding).\n",
    "\n",
    "Next, a GlobalAveragePooling1D layer returns a fixed-length output vector for each example by averaging over the sequence dimension. This allows the model to handle input of variable length, in the simplest way possible.\n",
    "\n",
    "This fixed-length output vector is piped through a fully-connected (Dense) layer with 16 hidden units.\n",
    "\n",
    "The last layer is densely connected with a single output node. Using the sigmoid activation function, this value is a float between 0 and 1, representing a probability (or confidence level) that the review is positive.\n",
    "\n",
    "Caution: This model doesn't use masking, so the zero-padding is used as part of the input, so the padding length may affect the output. To fix this, see the masking and padding guide."
   ]
  },
  {
   "cell_type": "code",
   "execution_count": 151,
   "metadata": {},
   "outputs": [
    {
     "name": "stdout",
     "output_type": "stream",
     "text": [
      "Model: \"sequential_12\"\n",
      "_________________________________________________________________\n",
      " Layer (type)                Output Shape              Param #   \n",
      "=================================================================\n",
      " embedding_16 (Embedding)    (None, None, 32)          1044800   \n",
      "                                                                 \n",
      " global_average_pooling1d_12  (None, 32)               0         \n",
      "  (GlobalAveragePooling1D)                                       \n",
      "                                                                 \n",
      " dense_19 (Dense)            (None, 1)                 33        \n",
      "                                                                 \n",
      "=================================================================\n",
      "Total params: 1,044,833\n",
      "Trainable params: 1,044,833\n",
      "Non-trainable params: 0\n",
      "_________________________________________________________________\n"
     ]
    }
   ],
   "source": [
    "embedding_dim = 32\n",
    "\n",
    "model = keras.Sequential([\n",
    "  layers.Embedding(encoder.vocab_size, embedding_dim),\n",
    "  layers.GlobalAveragePooling1D(),\n",
    "#  layers.Dense(16, activation='relu'),\n",
    "  layers.Dense(1)\n",
    "])\n",
    "\n",
    "model.summary()"
   ]
  },
  {
   "cell_type": "markdown",
   "metadata": {},
   "source": [
    "Compile and train the model"
   ]
  },
  {
   "cell_type": "code",
   "execution_count": 152,
   "metadata": {},
   "outputs": [],
   "source": [
    "model.compile(optimizer='adam',\n",
    "              loss=tf.keras.losses.BinaryCrossentropy(from_logits=True),\n",
    "              metrics=['accuracy'])"
   ]
  },
  {
   "cell_type": "code",
   "execution_count": 153,
   "metadata": {},
   "outputs": [
    {
     "name": "stdout",
     "output_type": "stream",
     "text": [
      "Epoch 1/5\n",
      "2500/2500 [==============================] - 33s 13ms/step - loss: 0.5956 - accuracy: 0.6052 - val_loss: 0.4881 - val_accuracy: 0.7456\n",
      "Epoch 2/5\n",
      "2500/2500 [==============================] - 32s 13ms/step - loss: 0.3809 - accuracy: 0.8298 - val_loss: 0.3577 - val_accuracy: 0.8544\n",
      "Epoch 3/5\n",
      "2500/2500 [==============================] - 35s 14ms/step - loss: 0.2799 - accuracy: 0.8891 - val_loss: 0.3260 - val_accuracy: 0.8384\n",
      "Epoch 4/5\n",
      "2500/2500 [==============================] - 31s 12ms/step - loss: 0.2242 - accuracy: 0.9181 - val_loss: 0.3020 - val_accuracy: 0.8880\n",
      "Epoch 5/5\n",
      "2500/2500 [==============================] - 32s 13ms/step - loss: 0.1818 - accuracy: 0.9366 - val_loss: 0.2932 - val_accuracy: 0.8660\n"
     ]
    }
   ],
   "source": [
    "history = model.fit(train_batches,\n",
    "                    epochs=5,\n",
    "                    validation_data=test_batches, \n",
    "                    validation_steps=250)"
   ]
  },
  {
   "cell_type": "code",
   "execution_count": 154,
   "metadata": {},
   "outputs": [],
   "source": [
    "def visualize_training(history, lw = 3):\n",
    "    import matplotlib.pyplot as plt \n",
    "    plt.figure(figsize=(10,10))\n",
    "    plt.subplot(2,1,1)\n",
    "    plt.plot(history.history['accuracy'], label = 'training', marker = '*', linewidth = lw)\n",
    "    plt.plot(history.history['val_accuracy'], label = 'validation', marker = 'o', linewidth = lw)\n",
    "    plt.title('Accuracy Comparison')\n",
    "    plt.xlabel('Epochs')\n",
    "    plt.ylabel('Accuracy')\n",
    "    plt.grid(True)\n",
    "    plt.legend(fontsize = 'x-large')\n",
    "    \n",
    "\n",
    "    plt.subplot(2,1,2)\n",
    "    plt.plot(history.history['loss'], label = 'training', marker = '*', linewidth = lw)\n",
    "    plt.plot(history.history['val_loss'], label = 'validation', marker = 'o', linewidth = lw)\n",
    "    plt.title('Loss Comparison')\n",
    "    plt.xlabel('Epochs')\n",
    "    plt.ylabel('Loss')\n",
    "    plt.legend(fontsize = 'x-large')\n",
    "    plt.grid(True)\n",
    "    plt.show()\n",
    "\n",
    "#    plt.figure(figsize=(10,5))\n",
    "#    plt.plot(history.history['lr'], label = 'lr', marker = '*',linewidth = lw)\n",
    "#    plt.title('Learning Rate')\n",
    "#    plt.xlabel('Epochs')\n",
    "#    plt.ylabel('Learning Rate')\n",
    "#    plt.grid(True)\n",
    "#    plt.show()"
   ]
  },
  {
   "cell_type": "code",
   "execution_count": 155,
   "metadata": {},
   "outputs": [
    {
     "data": {
      "image/png": "[encoded data removed]",
      "text/plain": [
       "<Figure size 1000x1000 with 2 Axes>"
      ]
     },
     "metadata": {},
     "output_type": "display_data"
    }
   ],
   "source": [
    "visualize_training(history)"
   ]
  },
  {
   "cell_type": "markdown",
   "metadata": {},
   "source": [
    "Retrieve the learned embeddings\n",
    "Next, let's retrieve the word embeddings learned during training. This will be a matrix of shape (vocab_size, embedding-dimension). Here observe some things carefully.\n",
    "\n",
    "We are selecting only the first layer of the model because it is the embedding layer in our model descriptor. If you carefully look at the model description, you can get an idea of what I am talking about."
   ]
  },
  {
   "cell_type": "raw",
   "metadata": {},
   "source": [
    "#Model description\n",
    "embedding_dim=300\n",
    "model = keras.Sequential([\n",
    "  layers.Embedding(encoder.vocab_size, embedding_dim),\n",
    "  layers.GlobalAveragePooling1D(),\n",
    "#   layers.Dense(16, activation='relu'),\n",
    "  layers.Dense(1)\n",
    "])"
   ]
  },
  {
   "cell_type": "markdown",
   "metadata": {},
   "source": [
    "When we run the summary() command for the model, we saw that Embedding() layer had 1044800 parameters. Which is exactly equal to 32,650x32 = 1044800. Therefore it was basically telling the size of the embedding matrix that it was going to learn. However for the quick testing purpose, I would set embedding_dim = 32 or 16.\n",
    "\n",
    "In the summary of the model, we observe that global_average_pooling1d layer which is GlobalAveragePooling1D() has 0 parameters to learn because it was simply finding out the running average of the previous layers output.\n",
    "\n",
    "Similarly it is possible to explore the learned parameters of the last two layers. Feel free to explore them for better understanding."
   ]
  },
  {
   "cell_type": "code",
   "execution_count": 156,
   "metadata": {},
   "outputs": [
    {
     "name": "stdout",
     "output_type": "stream",
     "text": [
      "(32650, 32)\n"
     ]
    }
   ],
   "source": [
    "# Retrieving the layer\n",
    "e = model.layers[0]\n",
    "#Retrieving the weights learned in that layer. \n",
    "weights = e.get_weights()[0]\n",
    "# The weight matrix is basically a list type matrix. Let's convert them into a numpy array for easier visualization.\n",
    "print(weights.shape)"
   ]
  },
  {
   "cell_type": "markdown",
   "metadata": {},
   "source": [
    "We will now write the weights to disk. To use the Embedding Projector, we will upload two files in tab separated format: a file of vectors (containing the embedding), and a file of meta data (containing the words)."
   ]
  },
  {
   "cell_type": "code",
   "execution_count": 157,
   "metadata": {},
   "outputs": [],
   "source": [
    "import io\n",
    "\n",
    "encoder = info.features['text'].encoder\n",
    "\n",
    "out_v = io.open('vecs.tsv', 'w', encoding='utf-8')\n",
    "out_m = io.open('meta.tsv', 'w', encoding='utf-8')\n",
    "\n",
    "for num, word in enumerate(encoder.subwords):\n",
    "    vec = weights[num+1] # skip 0, it's padding.\n",
    "    out_m.write(word + \"\\n\")\n",
    "    out_v.write('\\t'.join([str(x) for x in vec]) + \"\\n\")\n",
    "out_v.close()\n",
    "out_m.close()"
   ]
  },
  {
   "cell_type": "markdown",
   "metadata": {},
   "source": [
    "After you have run the previous segment of code, your output folder should have two files named\n",
    "\n",
    "vecs.tsv\n",
    "meta.tsv\n",
    "To visualize our embeddings we will upload them to the embedding projector.\n",
    "\n",
    "Open the Embedding Projector (this can also run in a local TensorBoard instance).\n",
    "https://projector.tensorflow.org/\n",
    "\n",
    "Click on \"Load data\".\n",
    "\n",
    "Upload the two files we created above: vecs.tsv and meta.tsv.\n",
    "\n",
    "The embeddings you have trained will now be displayed. You can search for words to find their closest neighbors. For example, try searching for \"beautiful\". You may see neighbors like \"wonderful\".\n",
    "\n",
    "Note: your results may be a bit different, depending on how weights were randomly initialized before training the embedding layer.\n",
    "\n",
    "Note: experimentally, you may be able to produce more interpretable embeddings by using a simpler model. Try deleting the Dense(16) layer, retraining the model, and visualizing the embeddings again.\n",
    "\n",
    "Now in order to find or have a look at any words in the embedding, we just have to find the location of that word in the vocabulary and select that row from the embedding matrix. This mechanism is very well explained in the tutorial of Andrew Ng"
   ]
  },
  {
   "cell_type": "markdown",
   "metadata": {},
   "source": [
    "Let's find the location of the words man, woman, king, queen from the vocabulary and then retrieve their word embedding."
   ]
  },
  {
   "cell_type": "code",
   "execution_count": 222,
   "metadata": {},
   "outputs": [
    {
     "name": "stdout",
     "output_type": "stream",
     "text": [
      "Found  man\n",
      "Found  woman\n",
      "Found  boy\n",
      "Found  girl\n",
      "Found  king\n",
      "Found  queen\n",
      "Found  dog\n",
      "Found  cat\n",
      "Found  pet\n",
      "Found  prince\n",
      "Found  princess\n",
      "Found  young\n",
      "Found  old\n"
     ]
    },
    {
     "data": {
      "text/plain": [
       "32"
      ]
     },
     "execution_count": 222,
     "metadata": {},
     "output_type": "execute_result"
    }
   ],
   "source": [
    "def get_location(word, vocab):\n",
    "    location = None\n",
    "    for index, s in enumerate(vocab):\n",
    "        if(s == word):\n",
    "            print('Found ', s)\n",
    "            location = index\n",
    "            break\n",
    "    return location\n",
    "vocab = encoder.subwords\n",
    "\n",
    "man = weights[get_location(\"man\", vocab)]\n",
    "woman = weights[get_location(\"woman\", vocab)]\n",
    "boy = weights[get_location(\"boy\", vocab)]\n",
    "girl = weights[get_location(\"girl\", vocab)]\n",
    "\n",
    "king = weights[get_location(\"king\", vocab)]\n",
    "queen = weights[get_location(\"queen\", vocab)]\n",
    "\n",
    "dog = weights[get_location(\"dog\", vocab)]\n",
    "cat = weights[get_location(\"cat\", vocab)]\n",
    "pet = weights[get_location(\"pet\", vocab)]\n",
    "\n",
    "prince = weights[get_location(\"prince\", vocab)]\n",
    "princess = weights[get_location(\"princess\", vocab)]\n",
    "young = weights[get_location(\"young\", vocab)]\n",
    "old = weights[get_location(\"old\", vocab)]\n",
    "\n",
    "weights.size\n",
    "king.size"
   ]
  },
  {
   "cell_type": "code",
   "execution_count": 241,
   "metadata": {},
   "outputs": [],
   "source": [
    "# a:b = c:d, (b-a) = (d-c), d = c + (b - a), or c = d - (b-a)\n",
    "what = boy + (woman - man)      # man:woman = boy: ?\n",
    "what1a = woman + (boy - man)\n",
    "what2 = man + (queen - king)      # king:queen = man: ?\n",
    "what3 = queen + prince - king   # king:prince = queen : ?\n",
    "\n",
    "\n",
    "v1 = woman - man\n",
    "v2 = girl - boy"
   ]
  },
  {
   "cell_type": "markdown",
   "metadata": {},
   "source": [
    "Now for comparative analysis, lets calculate the similarity of what with each of them"
   ]
  },
  {
   "cell_type": "code",
   "execution_count": 242,
   "metadata": {},
   "outputs": [
    {
     "name": "stdout",
     "output_type": "stream",
     "text": [
      "Similarity between   man & what  :  -0.97796315\n",
      "Similarity between   woman & what:  -0.9570241\n",
      "Similarity between   boy & what  :  0.05977306\n",
      "Similarity between   girl & what :  0.9739762\n",
      "\n",
      "Similarity between   man & what1a  :  -0.97796315\n",
      "Similarity between   woman & what1a:  -0.9570241\n",
      "Similarity between   boy & what1a  :  0.05977306\n",
      "Similarity between   girl & what1a :  0.97397625\n",
      "\n",
      "Similarity between   man & what2  :  0.9989549\n",
      "Similarity between   woman & what2:  0.99414164\n",
      "Similarity between   king & what2  :  -0.99224734\n",
      "Similarity between   queen & what2 :  0.9522927\n",
      "\n",
      "Similarity between   man & what3  :  0.98433465\n",
      "Similarity between   woman & what3:  0.9785208\n",
      "Similarity between   king & what3  :  -0.9857016\n",
      "Similarity between   queen & what3 :  0.9617701\n",
      "Similarity between   princess & what3 :  0.9216115\n",
      "\n",
      "Similarity between   v1 & v2  :  0.98499584\n",
      "\n",
      "Similarity between   dog & cat as pets  :  0.896102\n",
      "\n",
      "Similarity between   man & man  :  1.0\n"
     ]
    }
   ],
   "source": [
    "from sklearn.metrics.pairwise import cosine_similarity\n",
    "import numpy as np\n",
    "\n",
    "print('Similarity between   man & what  : ', np.squeeze(cosine_similarity([what], [man])))\n",
    "print('Similarity between   woman & what: ', np.squeeze(cosine_similarity([what], [woman])))\n",
    "print('Similarity between   boy & what  : ', np.squeeze(cosine_similarity([what], [boy])))\n",
    "print('Similarity between   girl & what : ', np.squeeze(cosine_similarity([what], [girl])))\n",
    "print()\n",
    "print('Similarity between   man & what1a  : ', np.squeeze(cosine_similarity([what1a], [man])))\n",
    "print('Similarity between   woman & what1a: ', np.squeeze(cosine_similarity([what1a], [woman])))\n",
    "print('Similarity between   boy & what1a  : ', np.squeeze(cosine_similarity([what1a], [boy])))\n",
    "print('Similarity between   girl & what1a : ', np.squeeze(cosine_similarity([what1a], [girl])))\n",
    "print()\n",
    "print('Similarity between   man & what2  : ', np.squeeze(cosine_similarity([what2], [man])))\n",
    "print('Similarity between   woman & what2: ', np.squeeze(cosine_similarity([what2], [woman])))\n",
    "print('Similarity between   king & what2  : ', np.squeeze(cosine_similarity([what2], [king])))\n",
    "print('Similarity between   queen & what2 : ', np.squeeze(cosine_similarity([what2], [queen])))\n",
    "print()\n",
    "print('Similarity between   man & what3  : ', np.squeeze(cosine_similarity([what3], [man])))\n",
    "print('Similarity between   woman & what3: ', np.squeeze(cosine_similarity([what3], [woman])))\n",
    "print('Similarity between   king & what3  : ', np.squeeze(cosine_similarity([what3], [king])))\n",
    "print('Similarity between   queen & what3 : ', np.squeeze(cosine_similarity([what3], [queen])))\n",
    "print('Similarity between   princess & what3 : ', np.squeeze(cosine_similarity([what3], [princess])))\n",
    "print()\n",
    "print('Similarity between   v1 & v2  : ', np.squeeze(cosine_similarity([v1], [v2])))\n",
    "print()\n",
    "print('Similarity between   dog & cat as pets  : ', np.squeeze(cosine_similarity([dog-pet], [cat-pet])))\n",
    "print()\n",
    "print('Similarity between   man & man  : ', np.squeeze(cosine_similarity([man], [man])))\n"
   ]
  },
  {
   "cell_type": "code",
   "execution_count": null,
   "metadata": {},
   "outputs": [],
   "source": []
  }
 ],
 "metadata": {
  "kernelspec": {
   "display_name": "Python 3 (ipykernel)",
   "language": "python",
   "name": "python3"
  },
  "language_info": {
   "codemirror_mode": {
    "name": "ipython",
    "version": 3
   },
   "file_extension": ".py",
   "mimetype": "text/x-python",
   "name": "python",
   "nbconvert_exporter": "python",
   "pygments_lexer": "ipython3",
   "version": "3.10.13"
  }
 },
 "nbformat": 4,
 "nbformat_minor": 4
}
