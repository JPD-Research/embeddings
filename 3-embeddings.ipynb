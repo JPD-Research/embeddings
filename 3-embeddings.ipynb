{
 "cells": [
  {
   "cell_type": "markdown",
   "metadata": {},
   "source": [
    "# Impact of Embeddings and Basic Inference work\n",
    " \n",
    "Extension of core work [here](https://www.kaggle.com/code/redwankarimsony/nlp-101-understanding-word-embedding/notebook)\n",
    "\n",
    "Word embeddings\n",
    "\n",
    "Word embeddings give us a way to use an efficient, dense representation in which similar words have a similar encoding. Importantly, we do not have to specify this encoding by hand. An embedding is a dense vector of floating point values (the length of the vector is a parameter you specify). Instead of specifying the values for the embedding manually, they are trainable parameters (weights learned by the model during training, in the same way a model learns weights for a dense layer). It is common to see word embeddings that are 8-dimensional (for small datasets), up to 1024-dimensions when working with large datasets. A higher dimensional embedding can capture fine-grained relationships between words, but takes more data to learn.\n",
    "\n",
    "Diagram of an embedding\n",
    "\n",
    "![embedding image](word_embeddings_colah.png)\n",
    "\n",
    "Above is a diagram for a word embedding. Each word is represented as a 4-dimensional vector of floating point values. Another way to think of an embedding is as \"lookup table\". After these weights have been learned, we can encode each word by looking up the dense vector it corresponds to in the table.\n",
    "\n",
    "ToDo:\n",
    "- Better understand how this changes with differences in training data\n",
    "- extend for different corpus of text\n",
    "- learn more about masking/padding"
   ]
  },
  {
   "cell_type": "code",
   "execution_count": 1,
   "metadata": {
    "ExecuteTime": {
     "end_time": "2024-01-30T17:34:30.384142200Z",
     "start_time": "2024-01-30T17:34:30.334051900Z"
    },
    "pycharm": {
     "is_executing": true
    }
   },
   "outputs": [],
   "source": [
    "import tensorflow as tf\n",
    "from tensorflow import keras\n",
    "from tensorflow.keras import layers\n",
    "import tensorflow_datasets as tfds\n",
    "tfds.disable_progress_bar()"
   ]
  },
  {
   "cell_type": "code",
   "execution_count": 2,
   "metadata": {
    "collapsed": false
   },
   "outputs": [],
   "source": [
    "local_data_path_root = \"C:/LocalResearch/JPD-Research/embeddings\"\n",
    "local_data_path = local_data_path_root+ \"/data\"\n",
    "local_vocab_path = local_data_path_root+ \"/vocab/\"\n",
    "local_model_path = local_data_path_root+ \"/models/\"\n",
    "\n",
    "# Directory where the checkpoints will be saved\n",
    "checkpoint_dir = local_data_path_root + '/training_checkpoints'"
   ]
  },
  {
   "cell_type": "code",
   "execution_count": 3,
   "metadata": {
    "ExecuteTime": {
     "end_time": "2024-01-30T17:34:58.933334300Z",
     "start_time": "2024-01-30T17:34:54.110197300Z"
    },
    "collapsed": false
   },
   "outputs": [
    {
     "name": "stdout",
     "output_type": "stream",
     "text": [
      "1 Physical GPUs, 1 Logical GPUs\n"
     ]
    }
   ],
   "source": [
    "gpus = tf.config.list_physical_devices('GPU')\n",
    "if gpus:\n",
    "    # Restrict TensorFlow to only allocate 1GB of memory on the first GPU\n",
    "    try:\n",
    "        for gpu in gpus:\n",
    "            tf.config.experimental.set_memory_growth(gpu, True)\n",
    "            #tf.config.set_logical_device_configuration(\n",
    "        #    gpus[0],\n",
    "        #    [tf.config.LogicalDeviceConfiguration(memory_limit=512)])\n",
    "        logical_gpus = tf.config.list_logical_devices('GPU')\n",
    "        print(len(gpus), \"Physical GPUs,\", len(logical_gpus), \"Logical GPUs\")\n",
    "    except RuntimeError as e:\n",
    "        # Virtual devices must be set before GPUs have been initialized\n",
    "        print(e)"
   ]
  },
  {
   "cell_type": "markdown",
   "metadata": {
    "collapsed": false
   },
   "source": [
    "The Embedding layer can be understood as a lookup table that maps from integer indices (which stand for specific words) to dense vectors (their embeddings). The dimensionality (or width) of the embedding is a parameter you can experiment with to see what works well for your problem, much in the same way you would experiment with the number of neurons in a Dense layer"
   ]
  },
  {
   "cell_type": "code",
   "execution_count": 4,
   "metadata": {
    "ExecuteTime": {
     "end_time": "2024-01-30T17:33:19.155829100Z",
     "start_time": "2024-01-30T17:33:19.096776600Z"
    },
    "collapsed": false,
    "pycharm": {
     "is_executing": true
    }
   },
   "outputs": [],
   "source": [
    "embedding_layer = layers.Embedding(1000, 5)\n",
    "# Here inside the Embedding(), the first number is the input_size and second one is the output_size"
   ]
  },
  {
   "cell_type": "markdown",
   "metadata": {
    "collapsed": false
   },
   "source": [
    "When you create an Embedding layer, the weights for the embedding are randomly initialized (just like any other layer). During training, they are gradually adjusted via backpropagation. Once trained, the learned word embeddings will roughly encode similarities between words (as they were learned for the specific problem your model is trained on).\n",
    "\n",
    "If you pass an integer to an embedding layer, the result replaces each integer with the vector from the embedding table:"
   ]
  },
  {
   "cell_type": "code",
   "execution_count": 5,
   "metadata": {
    "collapsed": false
   },
   "outputs": [
    {
     "data": {
      "text/plain": [
       "array([[ 0.01300701,  0.02249681, -0.01756303,  0.03225088,  0.02832064],\n",
       "       [ 0.04684584,  0.01766249,  0.00567149, -0.03393905, -0.02033658],\n",
       "       [-0.03771964,  0.03209365, -0.03962244, -0.02660172,  0.01826905],\n",
       "       [ 0.0041878 , -0.0309028 ,  0.03601484,  0.04726574,  0.02339062]],\n",
       "      dtype=float32)"
      ]
     },
     "execution_count": 5,
     "metadata": {},
     "output_type": "execute_result"
    }
   ],
   "source": [
    "result = embedding_layer(tf.constant([1,2,3, 999]))\n",
    "result.numpy()"
   ]
  },
  {
   "cell_type": "markdown",
   "metadata": {
    "collapsed": false
   },
   "source": [
    "For text or sequence problems, the Embedding layer takes a 2D tensor of integers, of shape (samples, sequence_length), where each entry is a sequence of integers. It can embed sequences of variable lengths. You could feed into the embedding layer above batches with shapes  (32,10)\n",
    "  (batch of 32 sequences of length 10) or  (64,15)\n",
    "  (batch of 64 sequences of length 15).\n",
    "\n",
    "The returned tensor has one more axis than the input, the embedding vectors are aligned along the new last axis. Pass it a  (2,3)\n",
    "  input batch and the output is  (2,3,N)"
   ]
  },
  {
   "cell_type": "code",
   "execution_count": 6,
   "metadata": {
    "collapsed": false
   },
   "outputs": [
    {
     "name": "stdout",
     "output_type": "stream",
     "text": [
      "(2, 3, 5)\n",
      "tf.Tensor(\n",
      "[[-0.03299192 -0.03729197  0.0222922  -0.01052535 -0.00446539]\n",
      " [ 0.01300701  0.02249681 -0.01756303  0.03225088  0.02832064]\n",
      " [ 0.04684584  0.01766249  0.00567149 -0.03393905 -0.02033658]], shape=(3, 5), dtype=float32)\n",
      "tf.Tensor(\n",
      "[[-0.03771964  0.03209365 -0.03962244 -0.02660172  0.01826905]\n",
      " [ 0.0190847  -0.00943434 -0.0030396   0.00552396  0.014757  ]\n",
      " [ 0.00029851  0.03210421  0.04611737 -0.04912157  0.03886271]], shape=(3, 5), dtype=float32)\n"
     ]
    }
   ],
   "source": [
    "result = embedding_layer(tf.constant([[0,1,2],[3,4,5]]))\n",
    "print(result.shape)\n",
    "print(result[0])\n",
    "print(result[1])"
   ]
  },
  {
   "cell_type": "markdown",
   "metadata": {},
   "source": [
    "Learning embeddings from scratch\n",
    "Large Movie Review Dataset. This is a dataset for binary sentiment classification containing substantially more data than previous benchmark datasets. It contains a set of 25,000 highly polar movie reviews for training, and 25,000 for testing. There is additional 50000 unlabeled data for use as well.\n",
    "\n",
    "One of the common tricks is to use the total 100,000 samples to train a language model which essentially predicts the next word of a sequence given a series of words before that and later on using that model for classification. However, in this notebook, I am simply using them for demonstrating word embeddings. So, I will just work on a small subset of the whole dataset containing vocabulary size of 8,000 words. You are free to explore the other larger version of the dataset from the tensorflow dataframes on imdb reviews ready to use."
   ]
  },
  {
   "cell_type": "code",
   "execution_count": 7,
   "metadata": {},
   "outputs": [
    {
     "name": "stderr",
     "output_type": "stream",
     "text": [
      "WARNING:absl:TFDS datasets with text encoding are deprecated and will be removed in a future version. Instead, you should use the plain text version and tokenize the text using `tensorflow_text` (See: https://www.tensorflow.org/tutorials/tensorflow_text/intro#tfdata_example)\n"
     ]
    }
   ],
   "source": [
    "#(train_data, test_data), info = tfds.load('imdb_reviews/subwords8k', \n",
    "(train_data, test_data), info = tfds.load('imdb_reviews/subwords32k', \n",
    "                                          split = (tfds.Split.TRAIN, tfds.Split.TEST),\n",
    "                                          with_info=True, \n",
    "                                          data_dir=local_data_path,\n",
    "                                          as_supervised=True)"
   ]
  },
  {
   "cell_type": "markdown",
   "metadata": {},
   "source": [
    "Get the encoder (tfds.features.text.SubwordTextEncoder), and have a quick look at the vocabulary. The \"\" in the vocabulary represent spaces. Note how the vocabulary includes whole words (ending with \"\") and partial words which it can use to build larger words:"
   ]
  },
  {
   "cell_type": "code",
   "execution_count": 8,
   "metadata": {},
   "outputs": [
    {
     "data": {
      "text/plain": [
       "['has_',\n",
       " 'just_',\n",
       " 'about_',\n",
       " 'her_',\n",
       " ') ',\n",
       " 'This_',\n",
       " 'out_',\n",
       " 'some_',\n",
       " 'movie',\n",
       " 'very_',\n",
       " 'film',\n",
       " 'more_',\n",
       " 'It_',\n",
       " 'would_',\n",
       " 'what_',\n",
       " 'when_',\n",
       " 'which_',\n",
       " 'good_',\n",
       " 'if_',\n",
       " 'up_']"
      ]
     },
     "execution_count": 8,
     "metadata": {},
     "output_type": "execute_result"
    }
   ],
   "source": [
    "encoder = info.features['text'].encoder\n",
    "encoder.subwords[50:70]"
   ]
  },
  {
   "cell_type": "markdown",
   "metadata": {},
   "source": [
    "Movie reviews can be different lengths. We will use the padded_batch method to standardize the lengths of the reviews."
   ]
  },
  {
   "cell_type": "code",
   "execution_count": 9,
   "metadata": {},
   "outputs": [],
   "source": [
    "train_batches = train_data.shuffle(1000).padded_batch(10)\n",
    "test_batches = test_data.shuffle(1000).padded_batch(10)"
   ]
  },
  {
   "cell_type": "markdown",
   "metadata": {},
   "source": [
    "As imported, the text of reviews is integer-encoded (each integer represents a specific word or word-part in the vocabulary). Note the trailing zeros, because the batch is padded to the longest example. Now lets have a look at the dataset summary."
   ]
  },
  {
   "cell_type": "code",
   "execution_count": 10,
   "metadata": {},
   "outputs": [
    {
     "name": "stdout",
     "output_type": "stream",
     "text": [
      "Training data info\n",
      "Train data shape:  (10, 483)\n",
      "Train_data:  [[   19   218  1195 ...     0     0     0]\n",
      " [   68    59     2 ...     0     0     0]\n",
      " [ 2002 12291   988 ...     0     0     0]\n",
      " ...\n",
      " [  224     8   198 ...     0     0     0]\n",
      " [  144   140 32433 ...     0     0     0]\n",
      " [   12   537 32433 ...     0     0     0]]\n",
      "\n",
      "\n",
      "Train label info\n",
      "Train label shape:  (10,)\n",
      "Train label:  [0 1 0 0 0 0 0 1 1 0]\n"
     ]
    }
   ],
   "source": [
    "train_batch, train_labels = next(iter(train_batches))\n",
    "print('Training data info')\n",
    "print('Train data shape: ', train_batch.shape)\n",
    "print('Train_data: ', train_batch.numpy())\n",
    "\n",
    "\n",
    "print('\\n\\nTrain label info')\n",
    "print('Train label shape: ', train_labels.shape)\n",
    "print('Train label: ', train_labels.numpy())"
   ]
  },
  {
   "cell_type": "markdown",
   "metadata": {},
   "source": [
    "Create a simple model\n",
    "I will use the Keras Sequential API to define our model. In this case it is a \"Continuous bag of words (CBOW)\" style model. In the CBOW model, the distributed representations of context (or surrounding words) are combined to predict the word in the middle. The exact opposite model is the Skip-Gram model, that is based on a single target word, the sorrounding words (contexts) are predicted The following figure will clarify them for sure."
   ]
  },
  {
   "cell_type": "markdown",
   "metadata": {},
   "source": [
    "Next the Embedding layer takes the integer-encoded vocabulary and looks up the embedding vector for each word-index. These vectors are learned as the model trains. The vectors add a dimension to the output array. The resulting dimensions are: (batch, sequence, embedding).\n",
    "\n",
    "Next, a GlobalAveragePooling1D layer returns a fixed-length output vector for each example by averaging over the sequence dimension. This allows the model to handle input of variable length, in the simplest way possible.\n",
    "\n",
    "This fixed-length output vector is piped through a fully-connected (Dense) layer with 16 hidden units.\n",
    "\n",
    "The last layer is densely connected with a single output node. Using the sigmoid activation function, this value is a float between 0 and 1, representing a probability (or confidence level) that the review is positive.\n",
    "\n",
    "Caution: This model doesn't use masking, so the zero-padding is used as part of the input, so the padding length may affect the output. To fix this, see the masking and padding guide."
   ]
  },
  {
   "cell_type": "code",
   "execution_count": 11,
   "metadata": {},
   "outputs": [
    {
     "name": "stdout",
     "output_type": "stream",
     "text": [
      "Model: \"sequential\"\n",
      "_________________________________________________________________\n",
      " Layer (type)                Output Shape              Param #   \n",
      "=================================================================\n",
      " embedding_1 (Embedding)     (None, None, 300)         9795000   \n",
      "                                                                 \n",
      " global_average_pooling1d (G  (None, 300)              0         \n",
      " lobalAveragePooling1D)                                          \n",
      "                                                                 \n",
      " dense (Dense)               (None, 1)                 301       \n",
      "                                                                 \n",
      "=================================================================\n",
      "Total params: 9,795,301\n",
      "Trainable params: 9,795,301\n",
      "Non-trainable params: 0\n",
      "_________________________________________________________________\n"
     ]
    }
   ],
   "source": [
    "embedding_dim = 300\n",
    "\n",
    "model = keras.Sequential([\n",
    "  layers.Embedding(encoder.vocab_size, embedding_dim),\n",
    "  layers.GlobalAveragePooling1D(),\n",
    "#  layers.Dense(16, activation='relu'),\n",
    "  layers.Dense(1)\n",
    "])\n",
    "\n",
    "model.summary()"
   ]
  },
  {
   "cell_type": "markdown",
   "metadata": {},
   "source": [
    "Compile and train the model\n",
    "\n",
    "Note that this took approximately twice as long running on basic CPU than running on GPU.\n",
    "for embedding_dim = 16, it was about 1:20 on GPU and 3:00 on CPU\n",
    "Surprisingly, the training time did not significantly increase for embedding_dim = 300"
   ]
  },
  {
   "cell_type": "code",
   "execution_count": 12,
   "metadata": {},
   "outputs": [],
   "source": [
    "model.compile(optimizer='adam',\n",
    "              loss=tf.keras.losses.BinaryCrossentropy(from_logits=True),\n",
    "              metrics=['accuracy'])"
   ]
  },
  {
   "cell_type": "code",
   "execution_count": 13,
   "metadata": {},
   "outputs": [
    {
     "name": "stdout",
     "output_type": "stream",
     "text": [
      "Epoch 1/5\n",
      "2500/2500 [==============================] - 17s 6ms/step - loss: 0.4785 - accuracy: 0.7248 - val_loss: 0.3558 - val_accuracy: 0.8228\n",
      "Epoch 2/5\n",
      "2500/2500 [==============================] - 15s 6ms/step - loss: 0.2496 - accuracy: 0.9011 - val_loss: 0.3107 - val_accuracy: 0.8876\n",
      "Epoch 3/5\n",
      "2500/2500 [==============================] - 15s 6ms/step - loss: 0.1677 - accuracy: 0.9396 - val_loss: 0.3312 - val_accuracy: 0.8764\n",
      "Epoch 4/5\n",
      "2500/2500 [==============================] - 15s 6ms/step - loss: 0.1158 - accuracy: 0.9608 - val_loss: 0.3591 - val_accuracy: 0.8808\n",
      "Epoch 5/5\n",
      "2500/2500 [==============================] - 16s 6ms/step - loss: 0.0801 - accuracy: 0.9758 - val_loss: 0.3974 - val_accuracy: 0.8804\n"
     ]
    }
   ],
   "source": [
    "history = model.fit(train_batches,\n",
    "                    epochs=5,\n",
    "                    validation_data=test_batches, \n",
    "                    validation_steps=250)"
   ]
  },
  {
   "cell_type": "code",
   "execution_count": 14,
   "metadata": {},
   "outputs": [],
   "source": [
    "def visualize_training(history, lw = 3):\n",
    "    import matplotlib.pyplot as plt \n",
    "    plt.figure(figsize=(10,10))\n",
    "    plt.subplot(2,1,1)\n",
    "    plt.plot(history.history['accuracy'], label = 'training', marker = '*', linewidth = lw)\n",
    "    plt.plot(history.history['val_accuracy'], label = 'validation', marker = 'o', linewidth = lw)\n",
    "    plt.title('Accuracy Comparison')\n",
    "    plt.xlabel('Epochs')\n",
    "    plt.ylabel('Accuracy')\n",
    "    plt.grid(True)\n",
    "    plt.legend(fontsize = 'x-large')\n",
    "    \n",
    "\n",
    "    plt.subplot(2,1,2)\n",
    "    plt.plot(history.history['loss'], label = 'training', marker = '*', linewidth = lw)\n",
    "    plt.plot(history.history['val_loss'], label = 'validation', marker = 'o', linewidth = lw)\n",
    "    plt.title('Loss Comparison')\n",
    "    plt.xlabel('Epochs')\n",
    "    plt.ylabel('Loss')\n",
    "    plt.legend(fontsize = 'x-large')\n",
    "    plt.grid(True)\n",
    "    plt.show()\n",
    "\n",
    "#    plt.figure(figsize=(10,5))\n",
    "#    plt.plot(history.history['lr'], label = 'lr', marker = '*',linewidth = lw)\n",
    "#    plt.title('Learning Rate')\n",
    "#    plt.xlabel('Epochs')\n",
    "#    plt.ylabel('Learning Rate')\n",
    "#    plt.grid(True)\n",
    "#    plt.show()"
   ]
  },
  {
   "cell_type": "code",
   "execution_count": 15,
   "metadata": {},
   "outputs": [
    {
     "data": {
      "image/png": "[encoded data removed]",
      "text/plain": [
       "<Figure size 1000x1000 with 2 Axes>"
      ]
     },
     "metadata": {},
     "output_type": "display_data"
    }
   ],
   "source": [
    "visualize_training(history)"
   ]
  },
  {
   "cell_type": "markdown",
   "metadata": {},
   "source": [
    "Retrieve the learned embeddings\n",
    "Next, let's retrieve the word embeddings learned during training. This will be a matrix of shape (vocab_size, embedding-dimension). Here observe some things carefully.\n",
    "\n",
    "We are selecting only the first layer of the model because it is the embedding layer in our model descriptor. If you carefully look at the model description, you can get an idea of what I am talking about."
   ]
  },
  {
   "cell_type": "raw",
   "metadata": {},
   "source": [
    "#Model description\n",
    "embedding_dim=300     # change from 16 <-> 300 to test inferences\n",
    "model = keras.Sequential([\n",
    "  layers.Embedding(encoder.vocab_size, embedding_dim),\n",
    "  layers.GlobalAveragePooling1D(),\n",
    "#   layers.Dense(16, activation='relu'),\n",
    "  layers.Dense(1)\n",
    "])"
   ]
  },
  {
   "cell_type": "markdown",
   "metadata": {},
   "source": [
    "When we run the summary() command for the model, we saw that Embedding() layer had 1044800 parameters. Which is exactly equal to 32,650x32 = 1044800. Therefore it was basically telling the size of the embedding matrix that it was going to learn. However for the quick testing purpose, I would set embedding_dim = 32 or 16.\n",
    "\n",
    "In the summary of the model, we observe that global_average_pooling1d layer which is GlobalAveragePooling1D() has 0 parameters to learn because it was simply finding out the running average of the previous layers output.\n",
    "\n",
    "Similarly it is possible to explore the learned parameters of the last two layers. Feel free to explore them for better understanding."
   ]
  },
  {
   "cell_type": "code",
   "execution_count": 16,
   "metadata": {},
   "outputs": [
    {
     "name": "stdout",
     "output_type": "stream",
     "text": [
      "(32650, 300)\n"
     ]
    }
   ],
   "source": [
    "# Retrieving the layer\n",
    "e = model.layers[0]\n",
    "#Retrieving the weights learned in that layer. \n",
    "weights = e.get_weights()[0]\n",
    "# The weight matrix is basically a list type matrix. Let's convert them into a numpy array for easier visualization.\n",
    "print(weights.shape)"
   ]
  },
  {
   "cell_type": "markdown",
   "metadata": {},
   "source": [
    "We will now write the weights to disk. To use the Embedding Projector, we will upload two files in tab separated format: a file of vectors (containing the embedding), and a file of meta data (containing the words)."
   ]
  },
  {
   "cell_type": "code",
   "execution_count": 17,
   "metadata": {},
   "outputs": [],
   "source": [
    "import io\n",
    "\n",
    "encoder = info.features['text'].encoder\n",
    "\n",
    "out_v = io.open(local_model_path+'vecs.tsv', 'w', encoding='utf-8')\n",
    "out_m = io.open(local_model_path+'meta.tsv', 'w', encoding='utf-8')\n",
    "\n",
    "for num, word in enumerate(encoder.subwords):\n",
    "    vec = weights[num+1] # skip 0, it's padding.\n",
    "    out_m.write(word + \"\\n\")\n",
    "    out_v.write('\\t'.join([str(x) for x in vec]) + \"\\n\")\n",
    "out_v.close()\n",
    "out_m.close()"
   ]
  },
  {
   "cell_type": "markdown",
   "metadata": {},
   "source": [
    "After you have run the previous segment of code, your output folder should have two files named\n",
    "\n",
    "vecs.tsv\n",
    "meta.tsv\n",
    "To visualize our embeddings we will upload them to the embedding projector.\n",
    "\n",
    "Open the Embedding Projector (this can also run in a local TensorBoard instance).\n",
    "https://projector.tensorflow.org/\n",
    "\n",
    "Click on \"Load data\".\n",
    "\n",
    "Upload the two files we created above: vecs.tsv and meta.tsv.\n",
    "\n",
    "The embeddings you have trained will now be displayed. You can search for words to find their closest neighbors. For example, try searching for \"beautiful\". You may see neighbors like \"wonderful\".\n",
    "\n",
    "Note: your results may be a bit different, depending on how weights were randomly initialized before training the embedding layer.\n",
    "\n",
    "Note: experimentally, you may be able to produce more interpretable embeddings by using a simpler model. Try deleting the Dense(16) layer, retraining the model, and visualizing the embeddings again.\n",
    "\n",
    "Now in order to find or have a look at any words in the embedding, we just have to find the location of that word in the vocabulary and select that row from the embedding matrix. This mechanism is very well explained in the tutorial of Andrew Ng"
   ]
  },
  {
   "cell_type": "markdown",
   "metadata": {},
   "source": [
    "Let's find the location of the words man, woman, king, queen from the vocabulary and then retrieve their word embedding."
   ]
  },
  {
   "cell_type": "code",
   "execution_count": 18,
   "metadata": {},
   "outputs": [
    {
     "name": "stdout",
     "output_type": "stream",
     "text": [
      "Found  man\n",
      "Found  woman\n",
      "Found  boy\n",
      "Found  girl\n",
      "Found  king\n",
      "Found  queen\n",
      "Found  dog\n",
      "Found  cat\n",
      "Found  pet\n",
      "Found  prince\n",
      "Found  princess\n",
      "Found  young\n",
      "Found  old\n"
     ]
    },
    {
     "data": {
      "text/plain": [
       "300"
      ]
     },
     "execution_count": 18,
     "metadata": {},
     "output_type": "execute_result"
    }
   ],
   "source": [
    "def get_location(word, vocab):\n",
    "    location = None\n",
    "    for index, s in enumerate(vocab):\n",
    "        if(s == word):\n",
    "            print('Found ', s)\n",
    "            location = index\n",
    "            break\n",
    "    return location\n",
    "vocab = encoder.subwords\n",
    "\n",
    "man = weights[get_location(\"man\", vocab)]\n",
    "woman = weights[get_location(\"woman\", vocab)]\n",
    "boy = weights[get_location(\"boy\", vocab)]\n",
    "girl = weights[get_location(\"girl\", vocab)]\n",
    "\n",
    "king = weights[get_location(\"king\", vocab)]\n",
    "queen = weights[get_location(\"queen\", vocab)]\n",
    "\n",
    "dog = weights[get_location(\"dog\", vocab)]\n",
    "cat = weights[get_location(\"cat\", vocab)]\n",
    "pet = weights[get_location(\"pet\", vocab)]\n",
    "\n",
    "prince = weights[get_location(\"prince\", vocab)]\n",
    "princess = weights[get_location(\"princess\", vocab)]\n",
    "young = weights[get_location(\"young\", vocab)]\n",
    "old = weights[get_location(\"old\", vocab)]\n",
    "\n",
    "weights.size\n",
    "king.size"
   ]
  },
  {
   "cell_type": "code",
   "execution_count": 19,
   "metadata": {},
   "outputs": [],
   "source": [
    "# a:b = c:d, (b-a) = (d-c), d = c + (b - a), or c = d - (b-a)\n",
    "what = boy + (woman - man)      # man:woman = boy: ?\n",
    "what1a = woman + (boy - man)  # man:boy = woman: ?\n",
    "what2 = man + (queen - king)      # king:queen = man: ?\n",
    "what3 = queen + prince - king   # king:prince = queen : ?\n",
    "\n",
    "\n",
    "v1 = woman - man\n",
    "v2 = girl - boy"
   ]
  },
  {
   "cell_type": "markdown",
   "metadata": {},
   "source": [
    "Now for comparative analysis, lets calculate the similarity of what with each of them"
   ]
  },
  {
   "cell_type": "code",
   "execution_count": 20,
   "metadata": {},
   "outputs": [
    {
     "name": "stdout",
     "output_type": "stream",
     "text": [
      "Similarity between   man & what  :  -0.9797869\n",
      "Similarity between   woman & what:  -0.8006046\n",
      "Similarity between   boy & what  :  0.9028366\n",
      "Similarity between   girl & what :  0.96941024\n",
      "\n",
      "Similarity between   man & what1a  :  -0.9797869\n",
      "Similarity between   woman & what1a:  -0.8006046\n",
      "Similarity between   boy & what1a  :  0.9028366\n",
      "Similarity between   girl & what1a :  0.96941024\n",
      "\n",
      "Similarity between   man & what2  :  0.99546474\n",
      "Similarity between   woman & what2:  0.8843986\n",
      "Similarity between   king & what2  :  -0.8285873\n",
      "Similarity between   queen & what2 :  0.985227\n",
      "\n",
      "Similarity between   man & what3  :  0.91367143\n",
      "Similarity between   woman & what3:  0.81733966\n",
      "Similarity between   king & what3  :  -0.86102426\n",
      "Similarity between   queen & what3 :  0.94154096\n",
      "Similarity between   princess & what3 :  0.8833039\n",
      "\n",
      "Similarity between   v1 & v2  :  0.9634705\n",
      "\n",
      "Similarity between   dog & cat  :  0.8988646\n",
      "\n",
      "Similarity between   dog & cat as pets  :  -0.5276349\n",
      "\n",
      "Similarity between   man & man  :  0.9999999\n"
     ]
    }
   ],
   "source": [
    "from sklearn.metrics.pairwise import cosine_similarity\n",
    "import numpy as np\n",
    "\n",
    "print('Similarity between   man & what  : ', np.squeeze(cosine_similarity([what], [man])))\n",
    "print('Similarity between   woman & what: ', np.squeeze(cosine_similarity([what], [woman])))\n",
    "print('Similarity between   boy & what  : ', np.squeeze(cosine_similarity([what], [boy])))\n",
    "print('Similarity between   girl & what : ', np.squeeze(cosine_similarity([what], [girl])))\n",
    "print()\n",
    "print('Similarity between   man & what1a  : ', np.squeeze(cosine_similarity([what1a], [man])))\n",
    "print('Similarity between   woman & what1a: ', np.squeeze(cosine_similarity([what1a], [woman])))\n",
    "print('Similarity between   boy & what1a  : ', np.squeeze(cosine_similarity([what1a], [boy])))\n",
    "print('Similarity between   girl & what1a : ', np.squeeze(cosine_similarity([what1a], [girl])))\n",
    "print()\n",
    "print('Similarity between   man & what2  : ', np.squeeze(cosine_similarity([what2], [man])))\n",
    "print('Similarity between   woman & what2: ', np.squeeze(cosine_similarity([what2], [woman])))\n",
    "print('Similarity between   king & what2  : ', np.squeeze(cosine_similarity([what2], [king])))\n",
    "print('Similarity between   queen & what2 : ', np.squeeze(cosine_similarity([what2], [queen])))\n",
    "print()\n",
    "print('Similarity between   man & what3  : ', np.squeeze(cosine_similarity([what3], [man])))\n",
    "print('Similarity between   woman & what3: ', np.squeeze(cosine_similarity([what3], [woman])))\n",
    "print('Similarity between   king & what3  : ', np.squeeze(cosine_similarity([what3], [king])))\n",
    "print('Similarity between   queen & what3 : ', np.squeeze(cosine_similarity([what3], [queen])))\n",
    "print('Similarity between   princess & what3 : ', np.squeeze(cosine_similarity([what3], [princess])))\n",
    "print()\n",
    "print('Similarity between   v1 & v2  : ', np.squeeze(cosine_similarity([v1], [v2])))\n",
    "print()\n",
    "print('Similarity between   dog & cat  : ', np.squeeze(cosine_similarity([dog], [cat])))\n",
    "print()\n",
    "print('Similarity between   dog & cat as pets  : ', np.squeeze(cosine_similarity([dog-pet], [cat-pet])))\n",
    "print()\n",
    "print('Similarity between   man & man  : ', np.squeeze(cosine_similarity([man], [man])))\n"
   ]
  },
  {
   "cell_type": "markdown",
   "metadata": {},
   "source": [
    "Inference / similarity for cases with embedded_dim = 16\n",
    "\n",
    "\n",
    "| case | man | woman | boy | girl |\n",
    "|------|------|------|------|-----|\n",
    "| 1 (girl - gender) |-0.9724242|-0.6498057|0.9286064|0.9648668|\n",
    "| 1a (girl - gender/child) |-0.9724242|-0.6498058|0.9286064|0.9648668|\n",
    "\n",
    "\n",
    "| case | man | woman | king | queen |\n",
    "|------|------|------|------|-----|\n",
    "| 2 (woman - role) |0.99398476|0.7802019|-0.9537238|0.9904202|\n",
    "\n",
    "| case | man | woman | king | queen | princess |\n",
    "|------|------|------|------|-----|-----|\n",
    "| 3 (princess - gender/role) |0.96157044|0.7590729|-0.95998454|0.9786165|0.9300556|\n",
    "\n",
    "| case | woman:man |\n",
    "|------|------|\n",
    "| girl:boy |0.9576211|\n",
    "\n",
    "| case | cat |\n",
    "|------|------|\n",
    "| dog |0.77308697|\n",
    "\n",
    "| case | dog:pet |\n",
    "|------|------|\n",
    "| cat:pet |-0.1196607|\n",
    "\n",
    ".9999998\n",
    "Selection deleted\n"
   ]
  },
  {
   "cell_type": "markdown",
   "metadata": {},
   "source": [
    "Inference / similarity for cases with embedded_dim = 16\n",
    "\n",
    "\n",
    "| case | man | woman | boy | girl |\n",
    "|------|------|------|------|-----|\n",
    "| 1 (girl - gender) |-0.9797869|-0.8006046|0.9028366|0.96941024|\n",
    "| 1a (girl - gender/child) |-0.9797869|-0.8006046|0.9028366|0.96941024|\n",
    "\n",
    "\n",
    "| case | man | woman | king | queen |\n",
    "|------|------|------|------|-----|\n",
    "| 2 (woman - role) |0.99546474|0.8843986|-0.8285873|0.985227|\n",
    "\n",
    "| case | man | woman | king | queen | princess |\n",
    "|------|------|------|------|-----|-----|\n",
    "| 3 (princess - gender/role) |0.91367143|0.81733966|-0.86102426|0.94154096|0.8833039|\n",
    "\n",
    "| case | woman:man |\n",
    "|------|------|\n",
    "| girl:boy |0.9634705|\n",
    "\n",
    "| case | cat |\n",
    "|------|------|\n",
    "| dog |0.8988646|\n",
    "\n",
    "| case | dog:pet |\n",
    "|------|------|\n",
    "| cat:pet |-0.5276349|\n",
    "pets  :  -0.5276349\n"
   ]
  },
  {
   "cell_type": "markdown",
   "metadata": {},
   "source": [
    "\n",
    "at embeddings_dim = 16, most expected relationships are clear, althought there are several spurious with high ranking results as well.\n",
    "at embeddings_dim = 300, most expected relationships, althought there are several spurious with high ranking results as well.\n",
    "\n",
    "These inferences show a high degree of simiarity between roles that have overlapping common contextual usage, such as cat/dog or the usage of girl or boy in relation to woman or man.  The more role or context based inferences show cases where poor inferences such as case 2: king:queen = man:man being preferred at the higher dimensionality over the expected king:queen = man:woman, which is likely a case of overfitting.\n"
   ]
  },
  {
   "cell_type": "code",
   "execution_count": null,
   "metadata": {},
   "outputs": [],
   "source": []
  }
 ],
 "metadata": {
  "kernelspec": {
   "display_name": "Python 3 (ipykernel)",
   "language": "python",
   "name": "python3"
  },
  "language_info": {
   "codemirror_mode": {
    "name": "ipython",
    "version": 3
   },
   "file_extension": ".py",
   "mimetype": "text/x-python",
   "name": "python",
   "nbconvert_exporter": "python",
   "pygments_lexer": "ipython3",
   "version": "3.10.13"
  }
 },
 "nbformat": 4,
 "nbformat_minor": 4
}
